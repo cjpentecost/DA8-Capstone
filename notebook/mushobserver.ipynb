{
 "cells": [
  {
   "cell_type": "code",
   "execution_count": 97,
   "metadata": {},
   "outputs": [],
   "source": [
    "import pandas as pd\n",
    "import numpy as np\n",
    "import matplotlib as plt\n",
    "import seaborn as sns\n"
   ]
  },
  {
   "cell_type": "code",
   "execution_count": 98,
   "metadata": {},
   "outputs": [],
   "source": [
    "#https://github.com/MushroomObserver/mushroom-observer/blob/main/README_API.md#csv-files\n",
    "#downloaded observations, locations, and classifications\n",
    "#created regions\n",
    "#Combination of EXCEL and SQL to clean/sort/organize into new spreadsheet: mushquery.csv"
   ]
  },
  {
   "attachments": {},
   "cell_type": "markdown",
   "metadata": {},
   "source": [
    "Import SQL query resultset : mushquery.csv\n",
    "\n",
    "Kingdom = Fungi\n",
    "\n",
    "Date range >= 1990-01-01\n",
    "\n",
    "Country = USA\n"
   ]
  },
  {
   "cell_type": "code",
   "execution_count": 117,
   "metadata": {},
   "outputs": [
    {
     "data": {
      "text/html": [
       "<div>\n",
       "<style scoped>\n",
       "    .dataframe tbody tr th:only-of-type {\n",
       "        vertical-align: middle;\n",
       "    }\n",
       "\n",
       "    .dataframe tbody tr th {\n",
       "        vertical-align: top;\n",
       "    }\n",
       "\n",
       "    .dataframe thead th {\n",
       "        text-align: right;\n",
       "    }\n",
       "</style>\n",
       "<table border=\"1\" class=\"dataframe\">\n",
       "  <thead>\n",
       "    <tr style=\"text-align: right;\">\n",
       "      <th></th>\n",
       "      <th>id</th>\n",
       "      <th>name_id</th>\n",
       "      <th>date</th>\n",
       "      <th>location_id</th>\n",
       "      <th>lat</th>\n",
       "      <th>long</th>\n",
       "      <th>name_id-2</th>\n",
       "      <th>domain</th>\n",
       "      <th>kingdom</th>\n",
       "      <th>phylum</th>\n",
       "      <th>class</th>\n",
       "      <th>order</th>\n",
       "      <th>family</th>\n",
       "      <th>state</th>\n",
       "      <th>region</th>\n",
       "    </tr>\n",
       "  </thead>\n",
       "  <tbody>\n",
       "    <tr>\n",
       "      <th>0</th>\n",
       "      <td>488305</td>\n",
       "      <td>63622</td>\n",
       "      <td>1990-03-10</td>\n",
       "      <td>1436</td>\n",
       "      <td>999.0</td>\n",
       "      <td>999.0</td>\n",
       "      <td>63622</td>\n",
       "      <td>Eukarya</td>\n",
       "      <td>Fungi</td>\n",
       "      <td>Basidiomycota</td>\n",
       "      <td>Agaricomycetes</td>\n",
       "      <td>Agaricales</td>\n",
       "      <td>Galeropsidaceae</td>\n",
       "      <td>OR</td>\n",
       "      <td>WEST</td>\n",
       "    </tr>\n",
       "    <tr>\n",
       "      <th>1</th>\n",
       "      <td>518156</td>\n",
       "      <td>3683</td>\n",
       "      <td>1990-06-21</td>\n",
       "      <td>24157</td>\n",
       "      <td>999.0</td>\n",
       "      <td>999.0</td>\n",
       "      <td>3683</td>\n",
       "      <td>Eukarya</td>\n",
       "      <td>Fungi</td>\n",
       "      <td>Ascomycota</td>\n",
       "      <td>Leotiomycetes</td>\n",
       "      <td>Pezizales</td>\n",
       "      <td>Sarcoscyphaceae</td>\n",
       "      <td>MN</td>\n",
       "      <td>MIDWEST</td>\n",
       "    </tr>\n",
       "    <tr>\n",
       "      <th>2</th>\n",
       "      <td>518163</td>\n",
       "      <td>3599</td>\n",
       "      <td>1990-06-28</td>\n",
       "      <td>24157</td>\n",
       "      <td>999.0</td>\n",
       "      <td>999.0</td>\n",
       "      <td>3599</td>\n",
       "      <td>Eukarya</td>\n",
       "      <td>Fungi</td>\n",
       "      <td>Basidiomycota</td>\n",
       "      <td>Agaricomycetes</td>\n",
       "      <td>Agaricales</td>\n",
       "      <td>Physalacriaceae</td>\n",
       "      <td>MN</td>\n",
       "      <td>MIDWEST</td>\n",
       "    </tr>\n",
       "    <tr>\n",
       "      <th>3</th>\n",
       "      <td>448480</td>\n",
       "      <td>281</td>\n",
       "      <td>1990-07-04</td>\n",
       "      <td>24157</td>\n",
       "      <td>999.0</td>\n",
       "      <td>999.0</td>\n",
       "      <td>281</td>\n",
       "      <td>Eukarya</td>\n",
       "      <td>Fungi</td>\n",
       "      <td>Basidiomycota</td>\n",
       "      <td>Agaricomycetes</td>\n",
       "      <td>Agaricales</td>\n",
       "      <td>Crepidotaceae</td>\n",
       "      <td>MN</td>\n",
       "      <td>MIDWEST</td>\n",
       "    </tr>\n",
       "    <tr>\n",
       "      <th>4</th>\n",
       "      <td>31341</td>\n",
       "      <td>43745</td>\n",
       "      <td>1990-07-15</td>\n",
       "      <td>789</td>\n",
       "      <td>999.0</td>\n",
       "      <td>999.0</td>\n",
       "      <td>43745</td>\n",
       "      <td>Eukarya</td>\n",
       "      <td>Fungi</td>\n",
       "      <td>Basidiomycota</td>\n",
       "      <td>Agaricomycetes</td>\n",
       "      <td>Agaricales</td>\n",
       "      <td>Amanitaceae</td>\n",
       "      <td>OH</td>\n",
       "      <td>MIDWEST</td>\n",
       "    </tr>\n",
       "  </tbody>\n",
       "</table>\n",
       "</div>"
      ],
      "text/plain": [
       "       id  name_id        date  location_id    lat   long  name_id-2   domain  \\\n",
       "0  488305    63622  1990-03-10         1436  999.0  999.0      63622  Eukarya   \n",
       "1  518156     3683  1990-06-21        24157  999.0  999.0       3683  Eukarya   \n",
       "2  518163     3599  1990-06-28        24157  999.0  999.0       3599  Eukarya   \n",
       "3  448480      281  1990-07-04        24157  999.0  999.0        281  Eukarya   \n",
       "4   31341    43745  1990-07-15          789  999.0  999.0      43745  Eukarya   \n",
       "\n",
       "  kingdom         phylum           class       order           family state  \\\n",
       "0   Fungi  Basidiomycota  Agaricomycetes  Agaricales  Galeropsidaceae    OR   \n",
       "1   Fungi     Ascomycota   Leotiomycetes   Pezizales  Sarcoscyphaceae    MN   \n",
       "2   Fungi  Basidiomycota  Agaricomycetes  Agaricales  Physalacriaceae    MN   \n",
       "3   Fungi  Basidiomycota  Agaricomycetes  Agaricales    Crepidotaceae    MN   \n",
       "4   Fungi  Basidiomycota  Agaricomycetes  Agaricales      Amanitaceae    OH   \n",
       "\n",
       "    region  \n",
       "0     WEST  \n",
       "1  MIDWEST  \n",
       "2  MIDWEST  \n",
       "3  MIDWEST  \n",
       "4  MIDWEST  "
      ]
     },
     "execution_count": 117,
     "metadata": {},
     "output_type": "execute_result"
    }
   ],
   "source": [
    "df = pd.read_csv('../data/mushquery.csv')\n",
    "#df.info()\n",
    "df.head()"
   ]
  },
  {
   "cell_type": "code",
   "execution_count": 118,
   "metadata": {},
   "outputs": [],
   "source": [
    "#fix date, from obj to date\n",
    "df['date']=pd.to_datetime(df['date'])\n",
    "\n",
    "#Separate out into decades\n",
    "df_90s = df[df['date'].between('1990-01-01', '1999-12-31')]\n",
    "#df_90s"
   ]
  },
  {
   "cell_type": "code",
   "execution_count": 119,
   "metadata": {},
   "outputs": [],
   "source": [
    "df_2000s = df[df['date'].between('2000-01-01', '2009-12-31')]\n",
    "#df_2000s"
   ]
  },
  {
   "cell_type": "code",
   "execution_count": 120,
   "metadata": {},
   "outputs": [],
   "source": [
    "df_2010s = df[df['date'].between('2010-01-01', '2019-12-31')]\n",
    "#df_2010s"
   ]
  },
  {
   "attachments": {},
   "cell_type": "markdown",
   "metadata": {},
   "source": [
    "Total number of observations per decade?"
   ]
  },
  {
   "cell_type": "code",
   "execution_count": 121,
   "metadata": {},
   "outputs": [
    {
     "data": {
      "text/plain": [
       "675"
      ]
     },
     "execution_count": 121,
     "metadata": {},
     "output_type": "execute_result"
    }
   ],
   "source": [
    "df_90s['id'].count()"
   ]
  },
  {
   "cell_type": "code",
   "execution_count": 122,
   "metadata": {},
   "outputs": [
    {
     "data": {
      "text/plain": [
       "21453"
      ]
     },
     "execution_count": 122,
     "metadata": {},
     "output_type": "execute_result"
    }
   ],
   "source": [
    "df_2000s['id'].count()"
   ]
  },
  {
   "cell_type": "code",
   "execution_count": 123,
   "metadata": {},
   "outputs": [
    {
     "data": {
      "text/plain": [
       "195993"
      ]
     },
     "execution_count": 123,
     "metadata": {},
     "output_type": "execute_result"
    }
   ],
   "source": [
    "df_2010s['id'].count()"
   ]
  },
  {
   "attachments": {},
   "cell_type": "markdown",
   "metadata": {},
   "source": [
    "Which states have the highest count of mushrooms/ per decade?"
   ]
  },
  {
   "cell_type": "code",
   "execution_count": 124,
   "metadata": {},
   "outputs": [
    {
     "data": {
      "text/plain": [
       "kingdom  state      \n",
       "Fungi    MN             212\n",
       "         CA             168\n",
       "         PA              83\n",
       "         OH              37\n",
       "         CT              28\n",
       "         WV              23\n",
       "         MI              14\n",
       "         NC              13\n",
       "         AZ              10\n",
       "         AK               9\n",
       "         LA               9\n",
       "         NM               8\n",
       "         NY               8\n",
       "         IL               7\n",
       "         TX               7\n",
       "         OR               5\n",
       "         WI               4\n",
       "         AR               4\n",
       "         WA               4\n",
       "         FL               4\n",
       "         CO               3\n",
       "         Puerto Rico      3\n",
       "         ME               2\n",
       "         TN               2\n",
       "         MO               2\n",
       "         MS               1\n",
       "         NH               1\n",
       "         ND               1\n",
       "         MD               1\n",
       "         KS               1\n",
       "         WY               1\n",
       "dtype: int64"
      ]
     },
     "execution_count": 124,
     "metadata": {},
     "output_type": "execute_result"
    }
   ],
   "source": [
    "df_90s[['kingdom','state']].value_counts()\n",
    "#Minnesota, California, Pennsylvania, Ohio, Conneticut"
   ]
  },
  {
   "cell_type": "code",
   "execution_count": 125,
   "metadata": {},
   "outputs": [
    {
     "data": {
      "text/plain": [
       "kingdom  state        \n",
       "Fungi    CA               10795\n",
       "         OR                2143\n",
       "         OH                1195\n",
       "         PA                 905\n",
       "         WV                 772\n",
       "         WA                 649\n",
       "         NC                 532\n",
       "         NJ                 360\n",
       "         LA                 350\n",
       "         MO                 350\n",
       "         NY                 345\n",
       "         GA                 336\n",
       "         MA                 265\n",
       "         WI                 238\n",
       "         VA                 173\n",
       "         MD                 152\n",
       "         MT                 145\n",
       "         NH                 140\n",
       "         TN                 133\n",
       "         FL                 133\n",
       "         CT                 126\n",
       "         TX                 118\n",
       "         NM                 106\n",
       "         AL                  95\n",
       "         MN                  87\n",
       "         IL                  87\n",
       "         ID                  87\n",
       "         HI                  86\n",
       "         SC                  73\n",
       "         CO                  57\n",
       "         MI                  49\n",
       "         VT                  42\n",
       "         WY                  39\n",
       "         AK                  39\n",
       "         IN                  38\n",
       "         MS                  37\n",
       "         UT                  35\n",
       "         KY                  29\n",
       "         AZ                  28\n",
       "         ME                  20\n",
       "         OK                  12\n",
       "         RI                  12\n",
       "         Puerto Rico         11\n",
       "         KS                  11\n",
       "         AR                   9\n",
       "         IA                   4\n",
       "         Washington Dc        2\n",
       "         NV                   1\n",
       "         NE                   1\n",
       "         SD                   1\n",
       "dtype: int64"
      ]
     },
     "execution_count": 125,
     "metadata": {},
     "output_type": "execute_result"
    }
   ],
   "source": [
    "df_2000s[['kingdom','state']].value_counts()\n",
    "#California, Oregon, Ohio,Pennsylvania,West Virginia"
   ]
  },
  {
   "cell_type": "code",
   "execution_count": 126,
   "metadata": {},
   "outputs": [
    {
     "data": {
      "text/plain": [
       "kingdom  state         \n",
       "Fungi    CA                42320\n",
       "         PA                18236\n",
       "         WA                15019\n",
       "         OR                10575\n",
       "         GA                 8549\n",
       "         MI                 8022\n",
       "         OH                 7480\n",
       "         VA                 7344\n",
       "         FL                 6594\n",
       "         MO                 6049\n",
       "         WI                 5796\n",
       "         NC                 5568\n",
       "         TX                 4769\n",
       "         NY                 4369\n",
       "         TN                 3991\n",
       "         NH                 3595\n",
       "         IN                 3155\n",
       "         CT                 2879\n",
       "         MD                 2738\n",
       "         AR                 2442\n",
       "         ME                 2302\n",
       "         NJ                 2164\n",
       "         MA                 2085\n",
       "         IL                 1944\n",
       "         LA                 1570\n",
       "         AZ                 1560\n",
       "         AK                 1367\n",
       "         WV                 1314\n",
       "         CO                 1313\n",
       "         MN                 1167\n",
       "         Puerto Rico        1137\n",
       "         AL                 1124\n",
       "         UT                  960\n",
       "         MS                  809\n",
       "         ID                  702\n",
       "         KY                  666\n",
       "         VT                  634\n",
       "         MT                  621\n",
       "         NM                  601\n",
       "         HI                  467\n",
       "         SC                  449\n",
       "         RI                  307\n",
       "         IA                  217\n",
       "         SD                  191\n",
       "         WY                  167\n",
       "         DE                  148\n",
       "         OK                  140\n",
       "         KS                  124\n",
       "         Washington Dc       113\n",
       "         NV                   94\n",
       "         NE                   28\n",
       "         ND                   12\n",
       "         Virgin Islands        4\n",
       "         Chicago               2\n",
       "dtype: int64"
      ]
     },
     "execution_count": 126,
     "metadata": {},
     "output_type": "execute_result"
    }
   ],
   "source": [
    "df_2010s[['kingdom','state']].value_counts()\n",
    "#California, Pennsylvania,Washington, Oregon, Georgia"
   ]
  },
  {
   "attachments": {},
   "cell_type": "markdown",
   "metadata": {},
   "source": [
    "What are the top five most popular mushrooms per Region?"
   ]
  },
  {
   "cell_type": "code",
   "execution_count": 127,
   "metadata": {},
   "outputs": [
    {
     "data": {
      "text/plain": [
       "family        region   \n",
       "Unknown       MIDWEST      35\n",
       "Boletaceae    NORTHEAST    29\n",
       "Amanitaceae   WEST         19\n",
       "Polyporaceae  MIDWEST      17\n",
       "Agaricaceae   WEST         17\n",
       "dtype: int64"
      ]
     },
     "execution_count": 127,
     "metadata": {},
     "output_type": "execute_result"
    }
   ],
   "source": [
    "df_90s[['family','region']].value_counts().head()"
   ]
  },
  {
   "cell_type": "code",
   "execution_count": 128,
   "metadata": {},
   "outputs": [
    {
     "data": {
      "text/plain": [
       "family       region\n",
       "Russulaceae  WEST      997\n",
       "Amanitaceae  WEST      948\n",
       "Boletaceae   WEST      742\n",
       "Unknown      WEST      714\n",
       "Agaricaceae  WEST      613\n",
       "dtype: int64"
      ]
     },
     "execution_count": 128,
     "metadata": {},
     "output_type": "execute_result"
    }
   ],
   "source": [
    "df_2000s[['family','region']].value_counts().head()"
   ]
  },
  {
   "cell_type": "code",
   "execution_count": 129,
   "metadata": {},
   "outputs": [
    {
     "data": {
      "text/plain": [
       "family       region\n",
       "Unknown      SOUTH     5272\n",
       "             WEST      5011\n",
       "Amanitaceae  SOUTH     4632\n",
       "Boletaceae   SOUTH     3987\n",
       "Amanitaceae  WEST      3876\n",
       "dtype: int64"
      ]
     },
     "execution_count": 129,
     "metadata": {},
     "output_type": "execute_result"
    }
   ],
   "source": [
    "df_2010s[['family','region']].value_counts().head()"
   ]
  },
  {
   "cell_type": "code",
   "execution_count": 130,
   "metadata": {},
   "outputs": [
    {
     "data": {
      "text/plain": [
       "family           state\n",
       "Unknown          CA       304\n",
       "Polyporaceae     MI       264\n",
       "Psathyrellaceae  CA       221\n",
       "Boletaceae       VA       213\n",
       "Unknown          AR       210\n",
       "                         ... \n",
       "Leotiaceae       IN         1\n",
       "                 FL         1\n",
       "                 CA         1\n",
       "Lentariaceae     WA         1\n",
       "Xylariaceae      WV         1\n",
       "Length: 3063, dtype: int64"
      ]
     },
     "execution_count": 130,
     "metadata": {},
     "output_type": "execute_result"
    }
   ],
   "source": [
    "#TEST - use a small date range to figure out\n",
    "df_test=df[df['date'].between('2020-01-01', '2020-12-31')]\n",
    "#df_test.info()\n",
    "#count specific type of mushroom per state\n",
    "df_test[['family','state']].value_counts()\n"
   ]
  },
  {
   "cell_type": "code",
   "execution_count": 60,
   "metadata": {},
   "outputs": [],
   "source": [
    "#df['family'].value_counts - use normalize to see how frequent each value appears compared to the whole series, shows as percentage\n",
    "#df_test['family'].value_counts(normalize=True)"
   ]
  },
  {
   "cell_type": "code",
   "execution_count": 131,
   "metadata": {},
   "outputs": [
    {
     "data": {
      "text/plain": [
       "state  region     family         \n",
       "CA     WEST       Unknown            304\n",
       "MI     MIDWEST    Polyporaceae       264\n",
       "CA     WEST       Psathyrellaceae    221\n",
       "VA     SOUTH      Boletaceae         213\n",
       "AR     SOUTH      Unknown            210\n",
       "MI     MIDWEST    Unknown            210\n",
       "PA     NORTHEAST  Unknown            202\n",
       "IN     MIDWEST    Unknown            197\n",
       "WA     WEST       Unknown            191\n",
       "MI     MIDWEST    Boletaceae         183\n",
       "TX     SOUTH      Unknown            181\n",
       "FL     SOUTH      Unknown            166\n",
       "WI     MIDWEST    Unknown            165\n",
       "GA     SOUTH      Unknown            147\n",
       "MI     MIDWEST    Amanitaceae        145\n",
       "                  Entolomataceae     142\n",
       "NC     SOUTH      Amanitaceae        137\n",
       "CA     WEST       Cortinariaceae     133\n",
       "PA     NORTHEAST  Boletaceae         128\n",
       "NJ     NORTHEAST  Boletaceae         125\n",
       "dtype: int64"
      ]
     },
     "execution_count": 131,
     "metadata": {},
     "output_type": "execute_result"
    }
   ],
   "source": [
    "#count most popular mushroom (family) by region for only the year 2020, to see if it matches SQL query\n",
    "#IT DOES! it didn't match exactly at first because of the unknown's and becuase of the order (had family, state, region)\n",
    "df_test[['state','region','family']].value_counts().head(20)"
   ]
  }
 ],
 "metadata": {
  "kernelspec": {
   "display_name": "geospatial",
   "language": "python",
   "name": "python3"
  },
  "language_info": {
   "codemirror_mode": {
    "name": "ipython",
    "version": 3
   },
   "file_extension": ".py",
   "mimetype": "text/x-python",
   "name": "python",
   "nbconvert_exporter": "python",
   "pygments_lexer": "ipython3",
   "version": "3.10.9"
  },
  "orig_nbformat": 4
 },
 "nbformat": 4,
 "nbformat_minor": 2
}
